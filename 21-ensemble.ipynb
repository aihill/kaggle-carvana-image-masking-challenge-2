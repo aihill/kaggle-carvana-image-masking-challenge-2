{
 "cells": [
  {
   "cell_type": "code",
   "execution_count": 1,
   "metadata": {
    "ExecuteTime": {
     "end_time": "2017-09-27T21:18:16.288290Z",
     "start_time": "2017-09-27T21:18:12.029782Z"
    }
   },
   "outputs": [],
   "source": [
    "from tqdm import tqdm\n",
    "import pandas as pd"
   ]
  },
  {
   "cell_type": "code",
   "execution_count": 2,
   "metadata": {
    "ExecuteTime": {
     "end_time": "2017-09-27T21:18:16.293173Z",
     "start_time": "2017-09-27T21:18:16.290202Z"
    },
    "collapsed": true
   },
   "outputs": [],
   "source": [
    "import numpy as np"
   ]
  },
  {
   "cell_type": "code",
   "execution_count": 3,
   "metadata": {
    "ExecuteTime": {
     "end_time": "2017-09-27T21:18:16.423300Z",
     "start_time": "2017-09-27T21:18:16.300055Z"
    }
   },
   "outputs": [],
   "source": [
    "df_test = pd.read_csv('data/sample_submission.csv')\n",
    "ids_test = df_test['img'].map(lambda s: s.split('.')[0])"
   ]
  },
  {
   "cell_type": "code",
   "execution_count": 4,
   "metadata": {
    "ExecuteTime": {
     "end_time": "2017-09-27T21:18:16.483133Z",
     "start_time": "2017-09-27T21:18:16.425142Z"
    },
    "collapsed": true
   },
   "outputs": [],
   "source": [
    "names = []\n",
    "for id in ids_test:\n",
    "    names.append('{}.jpg'.format(id))"
   ]
  },
  {
   "cell_type": "code",
   "execution_count": 5,
   "metadata": {
    "ExecuteTime": {
     "end_time": "2017-09-27T21:18:16.490863Z",
     "start_time": "2017-09-27T21:18:16.484869Z"
    },
    "collapsed": true
   },
   "outputs": [],
   "source": [
    "# https://www.kaggle.com/stainsby/fast-tested-rle\n",
    "def run_length_encode(mask):\n",
    "    '''\n",
    "    img: numpy array, 1 - mask, 0 - background\n",
    "    Returns run length as string formated\n",
    "    '''\n",
    "    inds = mask.flatten()\n",
    "    runs = np.where(inds[1:] != inds[:-1])[0] + 2\n",
    "    runs[1::2] = runs[1::2] - runs[:-1:2]\n",
    "    rle = ' '.join([str(r) for r in runs])\n",
    "    return rle"
   ]
  },
  {
   "cell_type": "code",
   "execution_count": 6,
   "metadata": {
    "ExecuteTime": {
     "end_time": "2017-09-27T21:18:17.201347Z",
     "start_time": "2017-09-27T21:18:16.492900Z"
    }
   },
   "outputs": [],
   "source": [
    "import bcolz\n",
    "def save_array(fname, arr):\n",
    "    c=bcolz.carray(arr, rootdir=fname, mode='w')\n",
    "    c.flush()\n",
    "\n",
    "def load_array(fname):\n",
    "    return bcolz.open(fname)[:]"
   ]
  },
  {
   "cell_type": "code",
   "execution_count": 7,
   "metadata": {
    "ExecuteTime": {
     "end_time": "2017-09-27T21:18:17.206683Z",
     "start_time": "2017-09-27T21:18:17.203565Z"
    },
    "collapsed": true
   },
   "outputs": [],
   "source": [
    "rles = []"
   ]
  },
  {
   "cell_type": "code",
   "execution_count": 8,
   "metadata": {
    "ExecuteTime": {
     "end_time": "2017-09-27T17:49:52.514297Z",
     "start_time": "2017-09-27T17:49:52.511251Z"
    },
    "collapsed": true
   },
   "outputs": [],
   "source": [
    "saved_horiz_preds_start = None"
   ]
  },
  {
   "cell_type": "code",
   "execution_count": 9,
   "metadata": {
    "ExecuteTime": {
     "end_time": "2017-09-27T17:49:52.905301Z",
     "start_time": "2017-09-27T17:49:52.902346Z"
    },
    "collapsed": true
   },
   "outputs": [],
   "source": [
    "saved_vert_preds_start = None"
   ]
  },
  {
   "cell_type": "code",
   "execution_count": 10,
   "metadata": {
    "ExecuteTime": {
     "end_time": "2017-09-27T19:03:23.485698Z",
     "start_time": "2017-09-27T17:49:53.271884Z"
    },
    "collapsed": true
   },
   "outputs": [
    {
     "name": "stderr",
     "output_type": "stream",
     "text": [
      "100%|█████████▉| 10006/10007 [1:13:29<00:00,  2.47it/s]"
     ]
    },
    {
     "ename": "IndexError",
     "evalue": "index 224 is out of bounds for axis 0 with size 224",
     "output_type": "error",
     "traceback": [
      "\u001b[0;31m---------------------------------------------------------------------------\u001b[0m",
      "\u001b[0;31mIndexError\u001b[0m                                Traceback (most recent call last)",
      "\u001b[0;32m<ipython-input-10-a986d9b7ba02>\u001b[0m in \u001b[0;36m<module>\u001b[0;34m()\u001b[0m\n\u001b[1;32m     24\u001b[0m     \u001b[0mhoriz_within_slnos\u001b[0m \u001b[0;34m=\u001b[0m \u001b[0mlist\u001b[0m\u001b[0;34m(\u001b[0m\u001b[0mrange\u001b[0m\u001b[0;34m(\u001b[0m\u001b[0mstart\u001b[0m\u001b[0;34m-\u001b[0m\u001b[0mhoriz_batch_start\u001b[0m\u001b[0;34m,\u001b[0m \u001b[0mmin\u001b[0m\u001b[0;34m(\u001b[0m\u001b[0mlen\u001b[0m\u001b[0;34m(\u001b[0m\u001b[0mhoriz_top_preds\u001b[0m\u001b[0;34m)\u001b[0m\u001b[0;34m+\u001b[0m\u001b[0;36m1\u001b[0m\u001b[0;34m,\u001b[0m \u001b[0mstart\u001b[0m\u001b[0;34m-\u001b[0m\u001b[0mhoriz_batch_start\u001b[0m\u001b[0;34m+\u001b[0m\u001b[0;36m10\u001b[0m\u001b[0;34m)\u001b[0m\u001b[0;34m)\u001b[0m\u001b[0;34m)\u001b[0m\u001b[0;34m\u001b[0m\u001b[0m\n\u001b[1;32m     25\u001b[0m \u001b[0;34m\u001b[0m\u001b[0m\n\u001b[0;32m---> 26\u001b[0;31m     \u001b[0mvert_preds\u001b[0m \u001b[0;34m=\u001b[0m \u001b[0mvert_preds\u001b[0m\u001b[0;34m[\u001b[0m\u001b[0mvert_within_slnos\u001b[0m\u001b[0;34m,\u001b[0m \u001b[0;34m:\u001b[0m\u001b[0;34m,\u001b[0m \u001b[0;34m:\u001b[0m\u001b[0;34m]\u001b[0m\u001b[0;34m\u001b[0m\u001b[0m\n\u001b[0m\u001b[1;32m     27\u001b[0m     \u001b[0mhoriz_top_preds\u001b[0m \u001b[0;34m=\u001b[0m \u001b[0mhoriz_top_preds\u001b[0m\u001b[0;34m[\u001b[0m\u001b[0mhoriz_within_slnos\u001b[0m\u001b[0;34m,\u001b[0m \u001b[0;34m:\u001b[0m\u001b[0;34m,\u001b[0m \u001b[0;34m:\u001b[0m\u001b[0;34m]\u001b[0m\u001b[0;34m\u001b[0m\u001b[0m\n\u001b[1;32m     28\u001b[0m     \u001b[0mhoriz_bot_preds\u001b[0m \u001b[0;34m=\u001b[0m \u001b[0mhoriz_bot_preds\u001b[0m\u001b[0;34m[\u001b[0m\u001b[0mhoriz_within_slnos\u001b[0m\u001b[0;34m,\u001b[0m \u001b[0;34m:\u001b[0m\u001b[0;34m,\u001b[0m \u001b[0;34m:\u001b[0m\u001b[0;34m]\u001b[0m\u001b[0;34m\u001b[0m\u001b[0m\n",
      "\u001b[0;31mIndexError\u001b[0m: index 224 is out of bounds for axis 0 with size 224"
     ]
    }
   ],
   "source": [
    "for start in tqdm(range(0, len(ids_test), 10)):\n",
    "    vert_batch_start = int(start / 240)*240\n",
    "    horiz_batch_start  = int(start / 250)*250\n",
    "    \n",
    "    if saved_vert_preds_start == vert_batch_start:\n",
    "        vert_preds = saved_vert_preds\n",
    "    else:\n",
    "        vert_preds = load_array('./vert-cut-preds/batch-' + str(vert_batch_start))\n",
    "        saved_vert_preds = vert_preds\n",
    "        saved_vert_preds_start = vert_batch_start\n",
    "    \n",
    "    if saved_horiz_preds_start == horiz_batch_start:\n",
    "        horiz_top_preds = saved_horiz_top_preds\n",
    "        horiz_bot_preds = saved_horiz_bot_preds\n",
    "    else:\n",
    "        horiz_top_preds = load_array('./horiz-cut-top-preds/batch-'+str(horiz_batch_start))\n",
    "        horiz_bot_preds = load_array('./horiz-cut-bottom-preds/batch-'+str(horiz_batch_start))\n",
    "        saved_horiz_top_preds = horiz_top_preds\n",
    "        saved_horiz_bot_preds = horiz_bot_preds\n",
    "        saved_horiz_preds_start = horiz_batch_start\n",
    "        \n",
    "    \n",
    "    vert_within_slnos  = list(range(start-vert_batch_start,  min(len(vert_preds), start-vert_batch_start+10)))\n",
    "    horiz_within_slnos = list(range(start-horiz_batch_start, min(len(horiz_top_preds), start-horiz_batch_start+10)))\n",
    "    \n",
    "    vert_preds = vert_preds[vert_within_slnos, :, :]\n",
    "    horiz_top_preds = horiz_top_preds[horiz_within_slnos, :, :]\n",
    "    horiz_bot_preds = horiz_bot_preds[horiz_within_slnos, :, :]\n",
    "    \n",
    "    horiz_top_preds = horiz_top_preds[:,:,2:]\n",
    "    horiz_bot_preds = horiz_bot_preds[:,:,0:1918]\n",
    "    \n",
    "    part_1   = horiz_top_preds[:,0:512,:]\n",
    "    part_2_1 = horiz_top_preds[:,512:,:]\n",
    "    part_2_2 = horiz_bot_preds[:,0:256,:]\n",
    "    part_3   = horiz_bot_preds[:,256:,:]\n",
    "    part_2   = np.add(part_2_1, part_2_2)/2\n",
    "    horiz_preds = np.concatenate((part_1, part_2, part_3), axis=1)\n",
    "    \n",
    "    avg_preds = np.add(horiz_preds, vert_preds)/2\n",
    "    \n",
    "    avg_preds = avg_preds > 50\n",
    "    \n",
    "    for i in range(avg_preds.shape[0]):\n",
    "        mask = np.copy(avg_preds[i,:,:])\n",
    "        rle = run_length_encode(mask)\n",
    "        rles.append(rle)"
   ]
  },
  {
   "cell_type": "code",
   "execution_count": 18,
   "metadata": {
    "ExecuteTime": {
     "end_time": "2017-09-27T19:15:53.268822Z",
     "start_time": "2017-09-27T19:12:27.034560Z"
    },
    "collapsed": true
   },
   "outputs": [],
   "source": [
    "df = pd.DataFrame({'img': names, 'rle_mask': rles})\n",
    "df.to_csv('submit/submission16.csv.gz', index=False, compression='gzip')"
   ]
  },
  {
   "cell_type": "code",
   "execution_count": 8,
   "metadata": {
    "ExecuteTime": {
     "end_time": "2017-09-27T19:25:01.149677Z",
     "start_time": "2017-09-27T19:25:01.145785Z"
    },
    "collapsed": true
   },
   "outputs": [],
   "source": [
    "rles = []\n",
    "saved_horiz_preds_start = None\n",
    "saved_vert_preds_start = None"
   ]
  },
  {
   "cell_type": "code",
   "execution_count": 9,
   "metadata": {
    "ExecuteTime": {
     "end_time": "2017-09-27T20:14:04.711385Z",
     "start_time": "2017-09-27T19:25:25.522632Z"
    }
   },
   "outputs": [
    {
     "name": "stderr",
     "output_type": "stream",
     "text": [
      "100%|██████████| 10007/10007 [48:39<00:00,  3.43it/s] \n"
     ]
    }
   ],
   "source": [
    "for start in tqdm(range(0, len(ids_test), 10)):\n",
    "    vert_batch_start = int(start / 240)*240\n",
    "    horiz_batch_start  = int(start / 250)*250\n",
    "    \n",
    "    if saved_vert_preds_start == vert_batch_start:\n",
    "        vert_preds = saved_vert_preds\n",
    "    else:\n",
    "        vert_preds = load_array('./vert-cut-preds/batch-' + str(vert_batch_start))\n",
    "        saved_vert_preds = vert_preds\n",
    "        saved_vert_preds_start = vert_batch_start\n",
    "    \n",
    "    if saved_horiz_preds_start == horiz_batch_start:\n",
    "        horiz_top_preds = saved_horiz_top_preds\n",
    "        horiz_bot_preds = saved_horiz_bot_preds\n",
    "    else:\n",
    "        horiz_top_preds = load_array('./horiz-cut-top-preds/batch-'+str(horiz_batch_start))\n",
    "        horiz_bot_preds = load_array('./horiz-cut-bottom-preds/batch-'+str(horiz_batch_start))\n",
    "        saved_horiz_top_preds = horiz_top_preds\n",
    "        saved_horiz_bot_preds = horiz_bot_preds\n",
    "        saved_horiz_preds_start = horiz_batch_start\n",
    "        \n",
    "    \n",
    "    vert_within_slnos  = list(range(start-vert_batch_start,  min(len(vert_preds), start-vert_batch_start+10)))\n",
    "    horiz_within_slnos = list(range(start-horiz_batch_start, min(len(horiz_top_preds), start-horiz_batch_start+10)))\n",
    "    \n",
    "    vert_preds = vert_preds[vert_within_slnos, :, :]\n",
    "    horiz_top_preds = horiz_top_preds[horiz_within_slnos, :, :]\n",
    "    horiz_bot_preds = horiz_bot_preds[horiz_within_slnos, :, :]\n",
    "    \n",
    "    horiz_top_preds = horiz_top_preds[:,:,2:]\n",
    "    horiz_bot_preds = horiz_bot_preds[:,:,0:1918]\n",
    "    \n",
    "    part_1   = horiz_top_preds[:,0:512,:]\n",
    "    part_2_1 = horiz_top_preds[:,512:,:]\n",
    "    part_2_2 = horiz_bot_preds[:,0:256,:]\n",
    "    part_3   = horiz_bot_preds[:,256:,:]\n",
    "    part_2   = np.add(part_2_1, part_2_2)/2\n",
    "    horiz_preds = np.concatenate((part_1, part_2, part_3), axis=1)\n",
    "    \n",
    "    horiz_preds = horiz_preds > 50\n",
    "    vert_preds  = vert_preds > 50\n",
    "    avg_preds   = np.logical_and(horiz_preds, vert_preds)\n",
    "    \n",
    "    for i in range(avg_preds.shape[0]):\n",
    "        mask = np.copy(avg_preds[i,:,:])\n",
    "        rle = run_length_encode(mask)\n",
    "        rles.append(rle)"
   ]
  },
  {
   "cell_type": "code",
   "execution_count": 10,
   "metadata": {
    "ExecuteTime": {
     "end_time": "2017-09-27T20:17:35.146631Z",
     "start_time": "2017-09-27T20:14:04.713326Z"
    },
    "collapsed": true
   },
   "outputs": [],
   "source": [
    "df = pd.DataFrame({'img': names, 'rle_mask': rles})\n",
    "df.to_csv('submit/submission17.csv.gz', index=False, compression='gzip')"
   ]
  },
  {
   "cell_type": "code",
   "execution_count": 7,
   "metadata": {
    "ExecuteTime": {
     "end_time": "2017-09-27T20:19:01.796975Z",
     "start_time": "2017-09-27T20:19:01.792948Z"
    },
    "collapsed": true
   },
   "outputs": [],
   "source": [
    "rles = []\n",
    "saved_horiz_preds_start = None\n",
    "saved_vert_preds_start = None"
   ]
  },
  {
   "cell_type": "code",
   "execution_count": 8,
   "metadata": {
    "ExecuteTime": {
     "end_time": "2017-09-27T21:08:01.808249Z",
     "start_time": "2017-09-27T20:19:13.064595Z"
    }
   },
   "outputs": [
    {
     "name": "stderr",
     "output_type": "stream",
     "text": [
      "100%|██████████| 10007/10007 [48:48<00:00,  3.42it/s] \n"
     ]
    }
   ],
   "source": [
    "for start in tqdm(range(0, len(ids_test), 10)):\n",
    "    vert_batch_start = int(start / 240)*240\n",
    "    horiz_batch_start  = int(start / 250)*250\n",
    "    \n",
    "    if saved_vert_preds_start == vert_batch_start:\n",
    "        vert_preds = saved_vert_preds\n",
    "    else:\n",
    "        vert_preds = load_array('./vert-cut-preds/batch-' + str(vert_batch_start))\n",
    "        saved_vert_preds = vert_preds\n",
    "        saved_vert_preds_start = vert_batch_start\n",
    "    \n",
    "    if saved_horiz_preds_start == horiz_batch_start:\n",
    "        horiz_top_preds = saved_horiz_top_preds\n",
    "        horiz_bot_preds = saved_horiz_bot_preds\n",
    "    else:\n",
    "        horiz_top_preds = load_array('./horiz-cut-top-preds/batch-'+str(horiz_batch_start))\n",
    "        horiz_bot_preds = load_array('./horiz-cut-bottom-preds/batch-'+str(horiz_batch_start))\n",
    "        saved_horiz_top_preds = horiz_top_preds\n",
    "        saved_horiz_bot_preds = horiz_bot_preds\n",
    "        saved_horiz_preds_start = horiz_batch_start\n",
    "        \n",
    "    \n",
    "    vert_within_slnos  = list(range(start-vert_batch_start,  min(len(vert_preds), start-vert_batch_start+10)))\n",
    "    horiz_within_slnos = list(range(start-horiz_batch_start, min(len(horiz_top_preds), start-horiz_batch_start+10)))\n",
    "    \n",
    "    vert_preds = vert_preds[vert_within_slnos, :, :]\n",
    "    horiz_top_preds = horiz_top_preds[horiz_within_slnos, :, :]\n",
    "    horiz_bot_preds = horiz_bot_preds[horiz_within_slnos, :, :]\n",
    "    \n",
    "    horiz_top_preds = horiz_top_preds[:,:,2:]\n",
    "    horiz_bot_preds = horiz_bot_preds[:,:,0:1918]\n",
    "    \n",
    "    part_1   = horiz_top_preds[:,0:512,:]\n",
    "    part_2_1 = horiz_top_preds[:,512:,:]\n",
    "    part_2_2 = horiz_bot_preds[:,0:256,:]\n",
    "    part_3   = horiz_bot_preds[:,256:,:]\n",
    "    part_2   = np.add(part_2_1, part_2_2)/2\n",
    "    horiz_preds = np.concatenate((part_1, part_2, part_3), axis=1)\n",
    "    \n",
    "    horiz_preds = horiz_preds > 50\n",
    "    vert_preds  = vert_preds > 50\n",
    "    avg_preds   = np.logical_or(horiz_preds, vert_preds)\n",
    "    \n",
    "    for i in range(avg_preds.shape[0]):\n",
    "        mask = np.copy(avg_preds[i,:,:])\n",
    "        rle = run_length_encode(mask)\n",
    "        rles.append(rle)"
   ]
  },
  {
   "cell_type": "code",
   "execution_count": 9,
   "metadata": {
    "ExecuteTime": {
     "end_time": "2017-09-27T21:11:28.940274Z",
     "start_time": "2017-09-27T21:08:01.809952Z"
    },
    "collapsed": true
   },
   "outputs": [],
   "source": [
    "df = pd.DataFrame({'img': names, 'rle_mask': rles})\n",
    "df.to_csv('submit/submission18.csv.gz', index=False, compression='gzip')"
   ]
  }
 ],
 "metadata": {
  "kernelspec": {
   "display_name": "Python 3",
   "language": "python",
   "name": "python3"
  },
  "language_info": {
   "codemirror_mode": {
    "name": "ipython",
    "version": 3
   },
   "file_extension": ".py",
   "mimetype": "text/x-python",
   "name": "python",
   "nbconvert_exporter": "python",
   "pygments_lexer": "ipython3",
   "version": "3.6.1"
  },
  "toc": {
   "nav_menu": {},
   "number_sections": true,
   "sideBar": true,
   "skip_h1_title": false,
   "toc_cell": false,
   "toc_position": {},
   "toc_section_display": "block",
   "toc_window_display": false
  }
 },
 "nbformat": 4,
 "nbformat_minor": 2
}
